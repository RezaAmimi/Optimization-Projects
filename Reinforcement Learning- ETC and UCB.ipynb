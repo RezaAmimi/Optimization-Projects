{
 "cells": [
  {
   "cell_type": "markdown",
   "metadata": {
    "id": "bsZVE6hfjq5v"
   },
   "source": [
    "---\n",
    "<h1><center>IDS 435 - Assignment 4</center></h1>\n",
    "<h4><center>Spring 2022</center></h4> \n",
    "\n",
    "\n",
    "\n",
    "##### **Please read the submission guidelines available on the Blackboard carefully to prepare and turn in your submission.**\n",
    "\n"
   ]
  },
  {
   "cell_type": "markdown",
   "metadata": {},
   "source": [
    "--- \n",
    "\n",
    "### **ETC and UCB**\n",
    "\n",
    "\n",
    "This assignment is based on the slide deck used in the lectures titled \"ETCvsUCB\". Please refer to those slides for notation and algorithms. "
   ]
  },
  {
   "cell_type": "markdown",
   "metadata": {},
   "source": [
    "#### **Experiment Setup**\n",
    "\n",
    "Consider the following two-armed bandit setting: (i) you have in total $K=2$ arms, that is, $a=1$ or $a=2$; (ii) each time that you play the first arm,\n",
    "you receive a reward that comes from a mean-zero normal distribution with a standard deviation of one; and (iii) for the second arm,\n",
    "this normal distribution has the mean of $-\\delta$ and has the same standard deviation of one. Here, $\\delta$ is a positive constant. \n",
    "Therefore, arm $a=1$ is optimal and we have the gaps $\\Delta_1 = 0$ and $\\Delta_2 = \\delta$ associated with arms $a=1$ and $a=2$, respectively.\n",
    "Indeed, we do not know the reward distributions, their means, or standard deviations when using the algorithm. We only have access to a sample from the reward distribution of an arm if it is chosen. \n",
    "\n",
    "Below is code that illustrates how to compute regret for a simple rule that plays the first arm in odd rounds and the second one in even rounds.\n",
    "We have chosen $T=1,000$ rounds when $\\delta=.5$.\n"
   ]
  },
  {
   "cell_type": "code",
   "execution_count": 173,
   "metadata": {},
   "outputs": [
    {
     "name": "stdout",
     "output_type": "stream",
     "text": [
      "Sum of rewards from arm 1:\t -19.9662143027771\n",
      "Sum of rewards from arm 2:\t -227.69451476680507\n",
      "Observed regret:          \t 207.72830046402797\n"
     ]
    }
   ],
   "source": [
    "import numpy as np\n",
    "\n",
    "def reward(arm:int,delta:float):\n",
    "    assert arm in [1,2] \n",
    "    assert delta >0\n",
    "    if arm == 1:\n",
    "        return np.random.normal(loc= 0,scale=1)\n",
    "    else:\n",
    "        return np.random.normal(loc= -delta,scale=1)\n",
    "        \n",
    "def simple_rule(T:int,delta:float):\n",
    "    reward_arm_1 = []\n",
    "    reward_arm_2 = []\n",
    "    for t in range(1, T+1):\n",
    "        if t%2 ==1:\n",
    "            #play arm 1\n",
    "            reward_arm_1.append(reward(1,delta))\n",
    "        else:\n",
    "            #play arm 2\n",
    "            reward_arm_2.append(reward(2,delta))           \n",
    "    \n",
    "    return reward_arm_1,reward_arm_2\n",
    "\n",
    "if __name__== \"__main__\":\n",
    "    delta_ = .5\n",
    "    reward_arm_1,reward_arm_2 = simple_rule(T=1000, delta=delta_)\n",
    "    print('Sum of rewards from arm 1:\\t', sum(reward_arm_1))\n",
    "    print('Sum of rewards from arm 2:\\t', sum(reward_arm_2))\n",
    "    print('Observed regret:          \\t', sum(reward_arm_1)-sum(reward_arm_2))"
   ]
  },
  {
   "cell_type": "markdown",
   "metadata": {},
   "source": [
    "### Q1.\n",
    "1. Suppose we set $T = 1,000$. If you rerun function ```simple_rule``` above, do you see the same regret? Compute the average regret by rerunning code ```simple_rule(T=1000, delta=.5)``` for $10^5$ times.\n",
    "Do you see this average regret being close to $\\delta\\times N_t(a)$, where $N_t(a)$ is the number of times that action $a=2$ has been selected by ```simple_rule``` prior to time $t$? Explain your observation.<br></br>"
   ]
  },
  {
   "cell_type": "code",
   "execution_count": 500,
   "metadata": {},
   "outputs": [
    {
     "name": "stdout",
     "output_type": "stream",
     "text": [
      "Nt(2) * delta = T/2 * 0.5 =  250.0 , Average regret =  250.13311138020384\n"
     ]
    }
   ],
   "source": [
    "if __name__== \"__main__\":\n",
    "    delta_ = .5\n",
    "    num_iter = 100000\n",
    "    T = 1000\n",
    "    sum_reward_arm_1, sum_reward_arm_2 = 0, 0\n",
    "    for i in range(num_iter):\n",
    "        result = simple_rule(T, delta=delta_)\n",
    "        #track_arm_2.append(len(result[1]))\n",
    "        sum_reward_arm_1 = sum_reward_arm_1 + sum(result[0])\n",
    "        sum_reward_arm_2 = sum_reward_arm_2 + sum(result[1])\n",
    "    average_regret = sum_reward_arm_1/float(num_iter) - sum_reward_arm_2/float(num_iter)\n",
    "    print(\"Nt(2) * delta = T/2 * 0.5 = \", T/2 * delta_, \", Average regret = \", average_regret)"
   ]
  },
  {
   "cell_type": "markdown",
   "metadata": {},
   "source": [
    "The average regret gets closer to theoretical regret as the number of repetitions increase. This is due to the fact that more samples are generated from both bandit machine distributions."
   ]
  },
  {
   "cell_type": "markdown",
   "metadata": {},
   "source": [
    "### Q2.\n",
    "2. Write a python function implementing ETC. Note that inside your ETC function, you can simulate the reward you would receive by pulling an arm by calling the function ```reward``` for the pulled arm.\n",
    "Your ETC function will choose arms differently from the simple rule above.<br></br>"
   ]
  },
  {
   "cell_type": "code",
   "execution_count": 501,
   "metadata": {},
   "outputs": [],
   "source": [
    "def ETC(m, T, num_iter, optimal_arm, delta_):\n",
    "\n",
    "    average_regret = 0.\n",
    "    average_best_arm_reward = 0.\n",
    "    average_count_arm = [0, 0]\n",
    "    for r in range(num_iter):\n",
    "        count_arm = [0 , 0]\n",
    "        mean_arm = [0., 0.]\n",
    "        regret = 0.\n",
    "        for t in range(m):\n",
    "            temp = [0., 0.]\n",
    "            for i in range(2):\n",
    "                count_arm[i] += 1\n",
    "                temp[i] = reward(i + 1, delta_)\n",
    "                mean_arm[i] += temp[i]\n",
    "            regret += temp[optimal_arm] - temp[-(optimal_arm - 1)]\n",
    "            \n",
    "        for i in range(2):\n",
    "            mean_arm[i] /= count_arm[i]\n",
    "                \n",
    "        best_arm = max(enumerate(mean_arm), key=lambda x: x[1])[0]\n",
    "        \n",
    "        for i in range(2):\n",
    "            mean_arm[i] *= count_arm[i]\n",
    "\n",
    "        for t in range(T - m*2):\n",
    "            count_arm[best_arm] += 1\n",
    "            temp[i] = reward(best_arm + 1, delta_)\n",
    "            mean_arm[best_arm] += temp[i]\n",
    "        \n",
    "            regret += temp[optimal_arm] - temp[best_arm]\n",
    "            \n",
    "        average_regret += regret\n",
    "        average_best_arm_reward += mean_arm[best_arm]\n",
    "        average_count_arm[0] += count_arm[0]\n",
    "        average_count_arm[1] += count_arm[1]\n",
    "    print(\"ECB: T = \", T, \", m = \", m, \", delta = \", delta_)\n",
    "    print(\"Best arm reward: \", average_best_arm_reward/num_iter, \", Average regret: \", average_regret/num_iter, \"Theoretical regret: \", average_count_arm[-(best_arm - 1)]*delta_/num_iter)\n",
    "    print(\"-----------------------------------------------------------------------\")\n",
    "    return average_regret/num_iter\n",
    "    \n",
    "    \n",
    "    "
   ]
  },
  {
   "cell_type": "code",
   "execution_count": 502,
   "metadata": {},
   "outputs": [
    {
     "name": "stdout",
     "output_type": "stream",
     "text": [
      "ECB: T =  1000 , m =  67 , delta =  0.5\n",
      "Best arm reward:  -0.7229530827748332 , Average regret:  33.74309341565331 Theoretical regret:  34.33136\n",
      "-----------------------------------------------------------------------\n"
     ]
    }
   ],
   "source": [
    "delta_ = .5\n",
    "T = 1000\n",
    "optimal_arm = 0\n",
    "num_iter = 100000\n",
    "optimal_m = int(np.ceil(4*np.log(T*delta_**2/4)/delta_**2))\n",
    "ETC(optimal_m, T, num_iter, optimal_arm, delta_);"
   ]
  },
  {
   "cell_type": "markdown",
   "metadata": {},
   "source": [
    "### Q3.\n",
    "3. Write a python function implementing UCB.<br></br> "
   ]
  },
  {
   "cell_type": "code",
   "execution_count": 503,
   "metadata": {},
   "outputs": [],
   "source": [
    "def UCB(T, num_iter, optimal_arm, delta_):\n",
    "    \n",
    "    average_regret = 0.\n",
    "    average_best_arm_reward = 0.\n",
    "    average_count_arm = [0, 0]\n",
    "    theoretical_regret = 0.\n",
    "    for r in range(num_iter):\n",
    "        mean_arm = [0., 0.]\n",
    "        count_arm = [0, 0]\n",
    "        regret = 0.\n",
    "        for i in range(2):\n",
    "            count_arm[i] += 1\n",
    "            mean_arm[i] += reward(i + 1, delta_)\n",
    "\n",
    "            regret += mean_arm[optimal_arm] - mean_arm[i]\n",
    "            \n",
    "        for t in range(2, T):\n",
    "            A = [0., 0.]\n",
    "            temp = [0., 0.]\n",
    "            for i in range(2):\n",
    "                A[i] = mean_arm[i] + np.sqrt(2*np.log(t)/count_arm[i])\n",
    "                \n",
    "            best_arm = np.argmax(A)\n",
    "\n",
    "            count_arm[best_arm] += 1\n",
    "            temp[i] = reward(best_arm + 1, delta_)\n",
    "            mean_arm[best_arm] += temp[i]\n",
    "\n",
    "            regret += temp[optimal_arm] - temp[best_arm]\n",
    "\n",
    "        \n",
    "        average_regret += regret\n",
    "        average_best_arm_reward += mean_arm[best_arm]\n",
    "        average_count_arm[0] += count_arm[0]\n",
    "        average_count_arm[1] += count_arm[1]\n",
    "    \n",
    "    print(\"UCB: T = \", T, \", delta = \", delta_)\n",
    "    print(\"Best arm reward: \", average_best_arm_reward/num_iter, \", Average regret: \", average_regret/num_iter, \"Theoretical regret: \", average_count_arm[-(best_arm - 1)]*delta_/num_iter)\n",
    "    print(\"-----------------------------------------------------------------------\")\n",
    "    return average_regret/num_iter"
   ]
  },
  {
   "cell_type": "code",
   "execution_count": 504,
   "metadata": {},
   "outputs": [
    {
     "name": "stdout",
     "output_type": "stream",
     "text": [
      "UCB: T =  1000 , delta =  0.5\n",
      "Best arm reward:  0.024876020041994743 , Average regret:  24.744883776178 Theoretical regret:  24.72544\n",
      "-----------------------------------------------------------------------\n"
     ]
    },
    {
     "data": {
      "text/plain": [
       "24.744883776178"
      ]
     },
     "execution_count": 504,
     "metadata": {},
     "output_type": "execute_result"
    }
   ],
   "source": [
    "delta_ = .5\n",
    "T = 1000\n",
    "optimal_arm = 0\n",
    "num_iter = 100000\n",
    "UCB(T, num_iter, optimal_arm, delta_)"
   ]
  },
  {
   "cell_type": "markdown",
   "metadata": {},
   "source": [
    "### Q4.\n",
    "4. Plot a graph showing how the regret of ETC varies with $\\delta$. Specifically, on the $x$-axis vary $\\delta$ between 0 and 1 in increments of $0.1$, and on the $y$-axis, show the average of ETC regret over $10^5$ reruns. \n",
    "When implementing ETC, set $T=1000$ and use the optimal choice of $m$ discussed on Page 6 of slides. "
   ]
  },
  {
   "cell_type": "code",
   "execution_count": 505,
   "metadata": {},
   "outputs": [
    {
     "name": "stdout",
     "output_type": "stream",
     "text": [
      "ECB: T =  1000 , m =  367 , delta =  0.1\n",
      "Best arm reward:  -1.1415072867902887 , Average regret:  37.10741126574596 Theoretical regret:  39.025372000000004\n",
      "-----------------------------------------------------------------------\n",
      "ECB: T =  1000 , m =  231 , delta =  0.2\n",
      "Best arm reward:  -1.6028974953484454 , Average regret:  47.07351451541546 Theoretical regret:  47.90546\n",
      "-----------------------------------------------------------------------\n",
      "ECB: T =  1000 , m =  139 , delta =  0.30000000000000004\n",
      "Best arm reward:  -1.1727983395063655 , Average regret:  42.56842145708833 Theoretical regret:  43.05375000000001\n",
      "-----------------------------------------------------------------------\n",
      "ECB: T =  1000 , m =  93 , delta =  0.4\n",
      "Best arm reward:  -1.0852889397926784 , Average regret:  37.73884699335694 Theoretical regret:  38.202848\n",
      "-----------------------------------------------------------------------\n",
      "ECB: T =  1000 , m =  67 , delta =  0.5\n",
      "Best arm reward:  -0.6450572616982498 , Average regret:  33.653376403073764 Theoretical regret:  34.24909\n",
      "-----------------------------------------------------------------------\n",
      "ECB: T =  1000 , m =  50 , delta =  0.6\n",
      "Best arm reward:  -0.6027506876066477 , Average regret:  30.248985560606425 Theoretical regret:  30.6642\n",
      "-----------------------------------------------------------------------\n",
      "ECB: T =  1000 , m =  40 , delta =  0.7000000000000001\n",
      "Best arm reward:  -0.5241955323621481 , Average regret:  28.420824753835657 Theoretical regret:  28.540960000000005\n",
      "-----------------------------------------------------------------------\n",
      "ECB: T =  1000 , m =  32 , delta =  0.8\n",
      "Best arm reward:  -0.515192213115872 , Average regret:  25.721734414376126 Theoretical regret:  26.116672\n",
      "-----------------------------------------------------------------------\n",
      "ECB: T =  1000 , m =  27 , delta =  0.9\n",
      "Best arm reward:  -0.3559265397769134 , Average regret:  24.39804333464332 Theoretical regret:  24.657588000000004\n",
      "-----------------------------------------------------------------------\n"
     ]
    },
    {
     "data": {
      "image/png": "[encoded data removed]",
      "text/plain": [
       "<Figure size 432x288 with 1 Axes>"
      ]
     },
     "metadata": {
      "needs_background": "light"
     },
     "output_type": "display_data"
    }
   ],
   "source": [
    "import matplotlib.pyplot as plt\n",
    "\n",
    "regret_list = []\n",
    "delta_list = np.arange(0.1, 1.0, 0.1)\n",
    "for delta_ in delta_list:\n",
    "    T = 1000\n",
    "    optimal_arm = 0\n",
    "    num_iter = 100000\n",
    "    optimal_m = int(np.ceil(4*np.log(T*delta_**2/4)/delta_**2))\n",
    "    regret_list.append(ETC(optimal_m, T, num_iter, optimal_arm, delta_))\n",
    "\n",
    "plt.plot(delta_list, regret_list, 'r*-')\n",
    "plt.title(\"Regret vs delta\")\n",
    "plt.xlabel(\"delta\")\n",
    "plt.ylabel(\"Regret\")\n",
    "plt.show()"
   ]
  },
  {
   "cell_type": "markdown",
   "metadata": {},
   "source": [
    "### Q5.\n",
    "5. Fix $\\delta = 0.1$ and $T = 2,000$. Plot a graph showing how the ETC regret varies with $m$. In other words, we want to understand how the behavior of ETC changes when using suboptimal choices for $m$.\n",
    "On the $x$-axis vary $m$ between 0 and 400 in increments of 50, and on the $y$-axis, show the average of ETC regret over $10^5$ reruns. \n",
    "<br></br>"
   ]
  },
  {
   "cell_type": "code",
   "execution_count": 506,
   "metadata": {},
   "outputs": [
    {
     "name": "stdout",
     "output_type": "stream",
     "text": [
      "ECB: T =  2000 , m =  50 , delta =  0.1\n",
      "Best arm reward:  -56.7262720030493 , Average regret:  -3.54905793748191 Theoretical regret:  63.6321\n",
      "-----------------------------------------------------------------------\n",
      "ECB: T =  2000 , m =  100 , delta =  0.1\n",
      "Best arm reward:  -41.26807131519821 , Average regret:  13.168192850704834 Theoretical regret:  53.4142\n",
      "-----------------------------------------------------------------------\n",
      "ECB: T =  2000 , m =  150 , delta =  0.1\n",
      "Best arm reward:  -30.72227310610504 , Average regret:  22.19907380482821 Theoretical regret:  47.7828\n",
      "-----------------------------------------------------------------------\n",
      "ECB: T =  2000 , m =  200 , delta =  0.1\n",
      "Best arm reward:  -24.135200581346197 , Average regret:  24.423685246522766 Theoretical regret:  45.7664\n",
      "-----------------------------------------------------------------------\n",
      "ECB: T =  2000 , m =  250 , delta =  0.1\n",
      "Best arm reward:  -18.114235265078527 , Average regret:  32.13353694310524 Theoretical regret:  155.29\n",
      "-----------------------------------------------------------------------\n",
      "ECB: T =  2000 , m =  300 , delta =  0.1\n",
      "Best arm reward:  -13.910468590086372 , Average regret:  31.127503257017942 Theoretical regret:  45.4602\n",
      "-----------------------------------------------------------------------\n",
      "ECB: T =  2000 , m =  350 , delta =  0.1\n",
      "Best arm reward:  -11.014533287968979 , Average regret:  37.39722621308159 Theoretical regret:  153.0478\n",
      "-----------------------------------------------------------------------\n"
     ]
    },
    {
     "data": {
      "image/png": "[encoded data removed]",
      "text/plain": [
       "<Figure size 432x288 with 1 Axes>"
      ]
     },
     "metadata": {
      "needs_background": "light"
     },
     "output_type": "display_data"
    }
   ],
   "source": [
    "regret_list = []\n",
    "m_list = np.arange(50, 400, 50)\n",
    "for m in m_list:\n",
    "    delta_ = .1\n",
    "    T = 2000\n",
    "    optimal_arm = 0\n",
    "    num_iter = 100000\n",
    "    regret_list.append(ETC(m, T, num_iter, optimal_arm, delta_))\n",
    "\n",
    "plt.plot(m_list, regret_list, 'r*-')\n",
    "plt.title(\"Regret vs m\")\n",
    "plt.xlabel(\"m\")\n",
    "plt.ylabel(\"Regret\")\n",
    "plt.show()"
   ]
  },
  {
   "cell_type": "markdown",
   "metadata": {},
   "source": [
    "### Q6.\n",
    "6. Plot the regret of UCB as a function of $\\delta$ in a figure. Specifically, on the $x$-axis vary $\\delta$ between 0 and 1 in increments of $0.1$, and on the $y$-axis, show the average of UCB regret over $10^5$ reruns.\n",
    "On the same figure, add a line showing how the regret of ETC with $m=25$ varies as a function of $\\delta$. Add four more lines on the same figure for ETC with $m = 50, 75, 100$, and \n",
    "the optimal choice of $m$ discussed on Page 6 of slides. Based on the results in the figure, how does the relative performance of UCB and ETC vary with $m$?\n",
    "Further, comment on the importance of tuning $m$ if one uses ETC?\n",
    "<br></br>"
   ]
  },
  {
   "cell_type": "code",
   "execution_count": 507,
   "metadata": {},
   "outputs": [
    {
     "name": "stdout",
     "output_type": "stream",
     "text": [
      "UCB: T =  1000 , delta =  0.1\n",
      "Best arm reward:  0.676167783308016 , Average regret:  20.278720687087016 Theoretical regret:  20.286914000000003\n",
      "-----------------------------------------------------------------------\n",
      "ECB: T =  1000 , m =  25 , delta =  0.1\n",
      "Best arm reward:  -32.66499210640965 , Average regret:  -15.956912388529616 Theoretical regret:  36.83395\n",
      "-----------------------------------------------------------------------\n",
      "ECB: T =  1000 , m =  50 , delta =  0.1\n",
      "Best arm reward:  -25.75315706335111 , Average regret:  -0.9490235762699544 Theoretical regret:  32.7776\n",
      "-----------------------------------------------------------------------\n",
      "ECB: T =  1000 , m =  75 , delta =  0.1\n",
      "Best arm reward:  -20.84001636867351 , Average regret:  5.689422588860637 Theoretical regret:  30.3344\n",
      "-----------------------------------------------------------------------\n",
      "ECB: T =  1000 , m =  100 , delta =  0.1\n",
      "Best arm reward:  -17.167309188538667 , Average regret:  11.516996441571372 Theoretical regret:  28.984\n",
      "-----------------------------------------------------------------------\n",
      "ECB: T =  1000 , m =  367 , delta =  0.1\n",
      "Best arm reward:  -1.2003166014925661 , Average regret:  37.77631157191275 Theoretical regret:  38.995048000000004\n",
      "-----------------------------------------------------------------------\n",
      "UCB: T =  1000 , delta =  0.2\n",
      "Best arm reward:  -0.010570930035179667 , Average regret:  22.960718330493748 Theoretical regret:  23.0154\n",
      "-----------------------------------------------------------------------\n",
      "ECB: T =  1000 , m =  25 , delta =  0.2\n",
      "Best arm reward:  -44.63102659073206 , Average regret:  8.186603404709778 Theoretical regret:  50.7311\n",
      "-----------------------------------------------------------------------\n",
      "ECB: T =  1000 , m =  50 , delta =  0.2\n",
      "Best arm reward:  -27.46796302231506 , Average regret:  17.781350985635225 Theoretical regret:  38.3716\n",
      "-----------------------------------------------------------------------\n",
      "ECB: T =  1000 , m =  75 , delta =  0.2\n",
      "Best arm reward:  -17.80926478415357 , Average regret:  19.774723581222073 Theoretical regret:  33.428\n",
      "-----------------------------------------------------------------------\n",
      "ECB: T =  1000 , m =  100 , delta =  0.2\n",
      "Best arm reward:  -12.04512383221816 , Average regret:  23.097785641769548 Theoretical regret:  32.5472\n",
      "-----------------------------------------------------------------------\n",
      "ECB: T =  1000 , m =  231 , delta =  0.2\n",
      "Best arm reward:  -1.6011369036495822 , Average regret:  47.05061988952987 Theoretical regret:  47.90546\n",
      "-----------------------------------------------------------------------\n",
      "UCB: T =  1000 , delta =  0.30000000000000004\n",
      "Best arm reward:  0.10389785288006342 , Average regret:  23.847444207377137 Theoretical regret:  23.842521000000005\n",
      "-----------------------------------------------------------------------\n",
      "ECB: T =  1000 , m =  25 , delta =  0.30000000000000004\n",
      "Best arm reward:  -40.31417213726252 , Average regret:  20.02679259427788 Theoretical regret:  48.52575000000001\n",
      "-----------------------------------------------------------------------\n",
      "ECB: T =  1000 , m =  50 , delta =  0.30000000000000004\n",
      "Best arm reward:  -18.201175145003063 , Average regret:  21.039430014578347 Theoretical regret:  33.465300000000006\n",
      "-----------------------------------------------------------------------\n",
      "ECB: T =  1000 , m =  75 , delta =  0.30000000000000004\n",
      "Best arm reward:  -8.218439780891112 , Average regret:  25.781894368972825 Theoretical regret:  30.943050000000003\n",
      "-----------------------------------------------------------------------\n",
      "ECB: T =  1000 , m =  100 , delta =  0.30000000000000004\n",
      "Best arm reward:  -4.192616858063618 , Average regret:  31.47805775378277 Theoretical regret:  34.2552\n",
      "-----------------------------------------------------------------------\n",
      "ECB: T =  1000 , m =  139 , delta =  0.30000000000000004\n",
      "Best arm reward:  -1.507669494062203 , Average regret:  42.01409573895196 Theoretical regret:  43.112232\n",
      "-----------------------------------------------------------------------\n",
      "UCB: T =  1000 , delta =  0.4\n",
      "Best arm reward:  0.07152816655871409 , Average regret:  24.443153498806748 Theoretical regret:  24.4423\n",
      "-----------------------------------------------------------------------\n",
      "ECB: T =  1000 , m =  25 , delta =  0.4\n",
      "Best arm reward:  -29.987362547165613 , Average regret:  19.053205756446573 Theoretical regret:  40.1188\n",
      "-----------------------------------------------------------------------\n",
      "ECB: T =  1000 , m =  50 , delta =  0.4\n",
      "Best arm reward:  -7.926710002675588 , Average regret:  22.950210930629712 Theoretical regret:  28.1216\n",
      "-----------------------------------------------------------------------\n",
      "ECB: T =  1000 , m =  75 , delta =  0.4\n",
      "Best arm reward:  -2.249857584966065 , Average regret:  30.91320557164192 Theoretical regret:  32.3392\n",
      "-----------------------------------------------------------------------\n",
      "ECB: T =  1000 , m =  100 , delta =  0.4\n",
      "Best arm reward:  -0.5420742630378289 , Average regret:  40.2248952254662 Theoretical regret:  40.672\n",
      "-----------------------------------------------------------------------\n",
      "ECB: T =  1000 , m =  93 , delta =  0.4\n",
      "Best arm reward:  -1.2353946169769439 , Average regret:  37.61540835179808 Theoretical regret:  38.261456\n",
      "-----------------------------------------------------------------------\n",
      "UCB: T =  1000 , delta =  0.5\n",
      "Best arm reward:  0.05704940211336814 , Average regret:  24.71533620675186 Theoretical regret:  24.72618\n",
      "-----------------------------------------------------------------------\n",
      "ECB: T =  1000 , m =  25 , delta =  0.5\n",
      "Best arm reward:  -18.26668982506539 , Average regret:  19.35108148600636 Theoretical regret:  30.98225\n",
      "-----------------------------------------------------------------------\n",
      "ECB: T =  1000 , m =  50 , delta =  0.5\n",
      "Best arm reward:  -2.650700614369223 , Average regret:  26.256317973004666 Theoretical regret:  27.6865\n",
      "-----------------------------------------------------------------------\n",
      "ECB: T =  1000 , m =  75 , delta =  0.5\n",
      "Best arm reward:  -0.5808094886829198 , Average regret:  37.57735886670955 Theoretical regret:  37.9845\n",
      "-----------------------------------------------------------------------\n",
      "ECB: T =  1000 , m =  100 , delta =  0.5\n",
      "Best arm reward:  -0.007265112824305429 , Average regret:  50.08472045379011 Theoretical regret:  50.06\n",
      "-----------------------------------------------------------------------\n",
      "ECB: T =  1000 , m =  67 , delta =  0.5\n",
      "Best arm reward:  -0.9389844800164686 , Average regret:  33.96959463059874 Theoretical regret:  34.31404\n",
      "-----------------------------------------------------------------------\n",
      "UCB: T =  1000 , delta =  0.6\n",
      "Best arm reward:  -0.05215236389682189 , Average regret:  25.050094121449153 Theoretical regret:  25.058766000000002\n",
      "-----------------------------------------------------------------------\n",
      "ECB: T =  1000 , m =  25 , delta =  0.6\n",
      "Best arm reward:  -10.192203923008119 , Average regret:  19.345409610517446 Theoretical regret:  25.1859\n",
      "-----------------------------------------------------------------------\n",
      "ECB: T =  1000 , m =  50 , delta =  0.6\n",
      "Best arm reward:  -0.8224615315082623 , Average regret:  30.40867351960315 Theoretical regret:  30.648\n",
      "-----------------------------------------------------------------------\n",
      "ECB: T =  1000 , m =  75 , delta =  0.6\n",
      "Best arm reward:  -0.1519744260785653 , Average regret:  44.96711044645464 Theoretical regret:  45.0969\n",
      "-----------------------------------------------------------------------\n",
      "ECB: T =  1000 , m =  100 , delta =  0.6\n",
      "Best arm reward:  0.19795234647722537 , Average regret:  59.98313734334475 Theoretical regret:  60.0048\n",
      "-----------------------------------------------------------------------\n",
      "ECB: T =  1000 , m =  50 , delta =  0.6\n",
      "Best arm reward:  -0.6916635509228379 , Average regret:  30.254014998854874 Theoretical regret:  30.5886\n",
      "-----------------------------------------------------------------------\n",
      "UCB: T =  1000 , delta =  0.7000000000000001\n",
      "Best arm reward:  0.09775432855971596 , Average regret:  25.13875543644456 Theoretical regret:  25.126479000000003\n",
      "-----------------------------------------------------------------------\n",
      "ECB: T =  1000 , m =  25 , delta =  0.7000000000000001\n",
      "Best arm reward:  -4.394980451105691 , Average regret:  19.330875404423605 Theoretical regret:  21.7693\n",
      "-----------------------------------------------------------------------\n"
     ]
    },
    {
     "name": "stdout",
     "output_type": "stream",
     "text": [
      "ECB: T =  1000 , m =  50 , delta =  0.7000000000000001\n",
      "Best arm reward:  -0.030877949683338103 , Average regret:  35.14182089694963 Theoretical regret:  35.113400000000006\n",
      "-----------------------------------------------------------------------\n",
      "ECB: T =  1000 , m =  75 , delta =  0.7000000000000001\n",
      "Best arm reward:  -0.018897368714237542 , Average regret:  52.42303256232991 Theoretical regret:  52.50595000000001\n",
      "-----------------------------------------------------------------------\n",
      "ECB: T =  1000 , m =  100 , delta =  0.7000000000000001\n",
      "Best arm reward:  -0.11352353338717397 , Average regret:  70.00705205930305 Theoretical regret:  70.00000000000001\n",
      "-----------------------------------------------------------------------\n",
      "ECB: T =  1000 , m =  40 , delta =  0.7000000000000001\n",
      "Best arm reward:  -0.47510376697883994 , Average regret:  28.4679660619046 Theoretical regret:  28.586040000000004\n",
      "-----------------------------------------------------------------------\n",
      "UCB: T =  1000 , delta =  0.8\n",
      "Best arm reward:  -0.06141343761944993 , Average regret:  25.382521845134487 Theoretical regret:  25.388856\n",
      "-----------------------------------------------------------------------\n",
      "ECB: T =  1000 , m =  25 , delta =  0.8\n",
      "Best arm reward:  -1.6635737663029044 , Average regret:  20.736642166575127 Theoretical regret:  21.7252\n",
      "-----------------------------------------------------------------------\n",
      "ECB: T =  1000 , m =  50 , delta =  0.8\n",
      "Best arm reward:  0.004599817153384024 , Average regret:  39.99258383953412 Theoretical regret:  40.0072\n",
      "-----------------------------------------------------------------------\n",
      "ECB: T =  1000 , m =  75 , delta =  0.8\n",
      "Best arm reward:  -0.1252834170988867 , Average regret:  59.97551770260085 Theoretical regret:  60.0\n",
      "-----------------------------------------------------------------------\n",
      "ECB: T =  1000 , m =  100 , delta =  0.8\n",
      "Best arm reward:  0.06794190492562953 , Average regret:  80.06249553493733 Theoretical regret:  80.0\n",
      "-----------------------------------------------------------------------\n",
      "ECB: T =  1000 , m =  32 , delta =  0.8\n",
      "Best arm reward:  -0.4255258537676012 , Average regret:  25.781778266037318 Theoretical regret:  26.191552\n",
      "-----------------------------------------------------------------------\n",
      "UCB: T =  1000 , delta =  0.9\n",
      "Best arm reward:  0.011599987137686415 , Average regret:  25.484576382423032 Theoretical regret:  25.502184\n",
      "-----------------------------------------------------------------------\n",
      "ECB: T =  1000 , m =  25 , delta =  0.9\n",
      "Best arm reward:  -0.5708564716449214 , Average regret:  22.69232111662651 Theoretical regret:  23.02155\n",
      "-----------------------------------------------------------------------\n",
      "ECB: T =  1000 , m =  50 , delta =  0.9\n",
      "Best arm reward:  0.04523074634018615 , Average regret:  44.97267984380222 Theoretical regret:  45.0\n",
      "-----------------------------------------------------------------------\n",
      "ECB: T =  1000 , m =  75 , delta =  0.9\n",
      "Best arm reward:  -0.006352117777611796 , Average regret:  67.53075681140037 Theoretical regret:  67.5\n",
      "-----------------------------------------------------------------------\n",
      "ECB: T =  1000 , m =  100 , delta =  0.9\n",
      "Best arm reward:  0.14774235810636255 , Average regret:  89.95215807248792 Theoretical regret:  90.0\n",
      "-----------------------------------------------------------------------\n",
      "ECB: T =  1000 , m =  27 , delta =  0.9\n",
      "Best arm reward:  -0.525693136215762 , Average regret:  24.551227107787117 Theoretical regret:  24.802326\n",
      "-----------------------------------------------------------------------\n"
     ]
    },
    {
     "data": {
      "image/png": "[encoded data removed]",
      "text/plain": [
       "<Figure size 432x288 with 1 Axes>"
      ]
     },
     "metadata": {
      "needs_background": "light"
     },
     "output_type": "display_data"
    }
   ],
   "source": [
    "regret_list_UCB = []\n",
    "regret_list_ETC_m25 = []\n",
    "regret_list_ETC_m50 = []\n",
    "regret_list_ETC_m75 = []\n",
    "regret_list_ETC_m100 = []\n",
    "regret_list_ETC_mopt = []\n",
    "delta_list = np.arange(0.1, 1.0, 0.1)\n",
    "for delta_ in delta_list:\n",
    "    T = 1000\n",
    "    optimal_arm = 0\n",
    "    num_iter = 100000\n",
    "    optimal_m = int(np.ceil(4*np.log(T*delta_**2/4)/delta_**2))\n",
    "    regret_list_UCB.append(UCB(T, num_iter, optimal_arm, delta_))\n",
    "    regret_list_ETC_m25.append(ETC(25, T, num_iter, optimal_arm, delta_))\n",
    "    regret_list_ETC_m50.append(ETC(50, T, num_iter, optimal_arm, delta_))\n",
    "    regret_list_ETC_m75.append(ETC(75, T, num_iter, optimal_arm, delta_))\n",
    "    regret_list_ETC_m100.append(ETC(100, T, num_iter, optimal_arm, delta_))\n",
    "    regret_list_ETC_mopt.append(ETC(optimal_m, T, num_iter, optimal_arm, delta_))\n",
    "    \n",
    "plt.plot(delta_list, regret_list_UCB, '*-',\n",
    "         delta_list, regret_list_ETC_m25, '*-',\n",
    "         delta_list, regret_list_ETC_m50, '*-',\n",
    "         delta_list, regret_list_ETC_m75, '*-',\n",
    "         delta_list, regret_list_ETC_m100, '*-',\n",
    "         delta_list, regret_list_ETC_mopt, '*-')\n",
    "\n",
    "plt.title(\"Regret vs delta\")\n",
    "plt.xlabel(\"delta\")\n",
    "plt.ylabel(\"Regret\")\n",
    "plt.legend([\"UCB\", \"ECB m = 25\", \"ECB m = 50\", \"ECB m = 75\", \"ECB m = 100\", \"ECB optimal m\"])\n",
    "plt.show()"
   ]
  },
  {
   "cell_type": "code",
   "execution_count": 510,
   "metadata": {},
   "outputs": [
    {
     "data": {
      "image/png": "[encoded data removed]",
      "text/plain": [
       "<Figure size 640x480 with 1 Axes>"
      ]
     },
     "metadata": {
      "needs_background": "light"
     },
     "output_type": "display_data"
    }
   ],
   "source": [
    "plt.figure(figsize=(8, 6), dpi=80)\n",
    "\n",
    "plt.plot(delta_list, regret_list_UCB, '*-',\n",
    "         delta_list, regret_list_ETC_m25, '*-',\n",
    "         delta_list, regret_list_ETC_m50, '*-',\n",
    "         delta_list, regret_list_ETC_m75, '*-',\n",
    "         delta_list, regret_list_ETC_m100, '*-',\n",
    "         delta_list, regret_list_ETC_mopt, '*-')\n",
    "\n",
    "plt.title(\"Regret vs delta\")\n",
    "plt.xlabel(\"delta\")\n",
    "plt.ylabel(\"Regret\")\n",
    "plt.legend([\"UCB\", \"ECB m = 25\", \"ECB m = 50\", \"ECB m = 75\", \"ECB m = 100\", \"ECB optimal m\"])\n",
    "plt.show()"
   ]
  },
  {
   "cell_type": "markdown",
   "metadata": {},
   "source": [
    "As it is evident with the plot, the optimal m gives a much lower regret comparing to other suboptimal m values. Also, as optimal m changes with delta, the value of regret decreases by delta in contrast to other m values."
   ]
  },
  {
   "cell_type": "code",
   "execution_count": null,
   "metadata": {},
   "outputs": [],
   "source": []
  }
 ],
 "metadata": {
  "colab": {
   "collapsed_sections": [],
   "name": "IDS435-Assignment-1.ipynb",
   "provenance": [],
   "toc_visible": true
  },
  "kernelspec": {
   "display_name": "Python 3",
   "language": "python",
   "name": "python3"
  },
  "language_info": {
   "codemirror_mode": {
    "name": "ipython",
    "version": 3
   },
   "file_extension": ".py",
   "mimetype": "text/x-python",
   "name": "python",
   "nbconvert_exporter": "python",
   "pygments_lexer": "ipython3",
   "version": "3.8.8"
  }
 },
 "nbformat": 4,
 "nbformat_minor": 1
}
